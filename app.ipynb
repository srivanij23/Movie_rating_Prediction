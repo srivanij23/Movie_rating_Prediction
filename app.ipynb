{
 "cells": [
  {
   "cell_type": "markdown",
   "id": "52aa802b",
   "metadata": {},
   "source": [
    "# **🎬 IMDb Indian Movies Rating Prediction**\n",
    "\n",
    "##  **Step 1: Import Libraries**\n",
    "- `numpy` and `pandas` for numerical operations and data handling.\n",
    "- `train_test_split` from `sklearn.model_selection` to split our dataset into training and testing sets.\n",
    "- `mean_squared_error` and `r2_score` for model evaluation.\n",
    "- `XGBRegressor` from XGBoost for training our regression model.\n",
    "- `SentenceTransformer` for encoding textual data (can be used in advanced versions).\n",
    "- `pickle` to save our models and encodings for future use.\n"
   ]
  },
  {
   "cell_type": "code",
   "execution_count": 2,
   "id": "39f652d5",
   "metadata": {},
   "outputs": [
    {
     "name": "stderr",
     "output_type": "stream",
     "text": [
      "c:\\Users\\JADAV SRIVANI\\AppData\\Local\\Programs\\Python\\Python38\\lib\\site-packages\\sentence_transformers\\cross_encoder\\CrossEncoder.py:13: TqdmExperimentalWarning: Using `tqdm.autonotebook.tqdm` in notebook mode. Use `tqdm.tqdm` instead to force console mode (e.g. in jupyter console)\n",
      "  from tqdm.autonotebook import tqdm, trange\n"
     ]
    }
   ],
   "source": [
    "import numpy as np\n",
    "from sklearn.model_selection import train_test_split\n",
    "from sklearn.metrics import mean_squared_error,r2_score\n",
    "from xgboost import XGBRegressor\n",
    "from sentence_transformers import SentenceTransformer\n",
    "import pickle"
   ]
  },
  {
   "cell_type": "markdown",
   "id": "df26461e",
   "metadata": {},
   "source": [
    "## **📊 Step 2: Load and Preprocess the Dataset**\n",
    "- Load the dataset from the `data/IMDb Movies India.csv` file.\n",
    "- Replace missing values with empty strings.\n",
    "- Convert `Rating` column to numeric, dropping rows with missing ratings."
   ]
  },
  {
   "cell_type": "code",
   "execution_count": 6,
   "id": "10ffeeab",
   "metadata": {},
   "outputs": [
    {
     "data": {
      "text/html": [
       "<div>\n",
       "<style scoped>\n",
       "    .dataframe tbody tr th:only-of-type {\n",
       "        vertical-align: middle;\n",
       "    }\n",
       "\n",
       "    .dataframe tbody tr th {\n",
       "        vertical-align: top;\n",
       "    }\n",
       "\n",
       "    .dataframe thead th {\n",
       "        text-align: right;\n",
       "    }\n",
       "</style>\n",
       "<table border=\"1\" class=\"dataframe\">\n",
       "  <thead>\n",
       "    <tr style=\"text-align: right;\">\n",
       "      <th></th>\n",
       "      <th>Name</th>\n",
       "      <th>Year</th>\n",
       "      <th>Duration</th>\n",
       "      <th>Genre</th>\n",
       "      <th>Rating</th>\n",
       "      <th>Votes</th>\n",
       "      <th>Director</th>\n",
       "      <th>Actor 1</th>\n",
       "      <th>Actor 2</th>\n",
       "      <th>Actor 3</th>\n",
       "    </tr>\n",
       "  </thead>\n",
       "  <tbody>\n",
       "    <tr>\n",
       "      <th>0</th>\n",
       "      <td></td>\n",
       "      <td></td>\n",
       "      <td></td>\n",
       "      <td>Drama</td>\n",
       "      <td></td>\n",
       "      <td></td>\n",
       "      <td>J.S. Randhawa</td>\n",
       "      <td>Manmauji</td>\n",
       "      <td>Birbal</td>\n",
       "      <td>Rajendra Bhatia</td>\n",
       "    </tr>\n",
       "    <tr>\n",
       "      <th>1</th>\n",
       "      <td>#Gadhvi (He thought he was Gandhi)</td>\n",
       "      <td>(2019)</td>\n",
       "      <td>109 min</td>\n",
       "      <td>Drama</td>\n",
       "      <td>7.0</td>\n",
       "      <td>8</td>\n",
       "      <td>Gaurav Bakshi</td>\n",
       "      <td>Rasika Dugal</td>\n",
       "      <td>Vivek Ghamande</td>\n",
       "      <td>Arvind Jangid</td>\n",
       "    </tr>\n",
       "    <tr>\n",
       "      <th>2</th>\n",
       "      <td>#Homecoming</td>\n",
       "      <td>(2021)</td>\n",
       "      <td>90 min</td>\n",
       "      <td>Drama, Musical</td>\n",
       "      <td></td>\n",
       "      <td></td>\n",
       "      <td>Soumyajit Majumdar</td>\n",
       "      <td>Sayani Gupta</td>\n",
       "      <td>Plabita Borthakur</td>\n",
       "      <td>Roy Angana</td>\n",
       "    </tr>\n",
       "    <tr>\n",
       "      <th>3</th>\n",
       "      <td>#Yaaram</td>\n",
       "      <td>(2019)</td>\n",
       "      <td>110 min</td>\n",
       "      <td>Comedy, Romance</td>\n",
       "      <td>4.4</td>\n",
       "      <td>35</td>\n",
       "      <td>Ovais Khan</td>\n",
       "      <td>Prateik</td>\n",
       "      <td>Ishita Raj</td>\n",
       "      <td>Siddhant Kapoor</td>\n",
       "    </tr>\n",
       "    <tr>\n",
       "      <th>4</th>\n",
       "      <td>...And Once Again</td>\n",
       "      <td>(2010)</td>\n",
       "      <td>105 min</td>\n",
       "      <td>Drama</td>\n",
       "      <td></td>\n",
       "      <td></td>\n",
       "      <td>Amol Palekar</td>\n",
       "      <td>Rajat Kapoor</td>\n",
       "      <td>Rituparna Sengupta</td>\n",
       "      <td>Antara Mali</td>\n",
       "    </tr>\n",
       "  </tbody>\n",
       "</table>\n",
       "</div>"
      ],
      "text/plain": [
       "                                 Name    Year Duration            Genre  \\\n",
       "0                                                                 Drama   \n",
       "1  #Gadhvi (He thought he was Gandhi)  (2019)  109 min            Drama   \n",
       "2                         #Homecoming  (2021)   90 min   Drama, Musical   \n",
       "3                             #Yaaram  (2019)  110 min  Comedy, Romance   \n",
       "4                   ...And Once Again  (2010)  105 min            Drama   \n",
       "\n",
       "  Rating Votes            Director       Actor 1             Actor 2  \\\n",
       "0                    J.S. Randhawa      Manmauji              Birbal   \n",
       "1    7.0     8       Gaurav Bakshi  Rasika Dugal      Vivek Ghamande   \n",
       "2               Soumyajit Majumdar  Sayani Gupta   Plabita Borthakur   \n",
       "3    4.4    35          Ovais Khan       Prateik          Ishita Raj   \n",
       "4                     Amol Palekar  Rajat Kapoor  Rituparna Sengupta   \n",
       "\n",
       "           Actor 3  \n",
       "0  Rajendra Bhatia  \n",
       "1    Arvind Jangid  \n",
       "2       Roy Angana  \n",
       "3  Siddhant Kapoor  \n",
       "4      Antara Mali  "
      ]
     },
     "execution_count": 6,
     "metadata": {},
     "output_type": "execute_result"
    }
   ],
   "source": [
    "import pandas as pd\n",
    "data= pd.read_csv(\"data/IMDb Movies India.csv\",encoding='latin1')\n",
    "data.fillna(' ',inplace=True)\n",
    "data.head()"
   ]
  },
  {
   "cell_type": "markdown",
   "id": "b9cc00db",
   "metadata": {},
   "source": [
    "- Convert `Rating` column to numeric, dropping rows with missing ratings."
   ]
  },
  {
   "cell_type": "code",
   "execution_count": 11,
   "id": "ae97afe5",
   "metadata": {},
   "outputs": [],
   "source": [
    "data['Rating']=pd.to_numeric(data['Rating'],errors='coerce')\n",
    "data = data.dropna(subset=['Rating'])"
   ]
  },
  {
   "cell_type": "markdown",
   "id": "997b2c7d",
   "metadata": {},
   "source": [
    "## **🧑‍🎤 Step 3: Actor-based Feature Engineering**\n",
    "- Combine `Actor 1`, `Actor 2`, and `Actor 3` into a list."
   ]
  },
  {
   "cell_type": "code",
   "execution_count": 12,
   "id": "979f68a5",
   "metadata": {},
   "outputs": [],
   "source": [
    "data['actors']=data[['Actor 1','Actor 2','Actor 3']].values.tolist()"
   ]
  },
  {
   "cell_type": "markdown",
   "id": "afe3ecd4",
   "metadata": {},
   "source": [
    "- Explode actor lists to calculate each actor's average movie rating.\n",
    "- Use the dictionary to assign an average actor rating to each movie."
   ]
  },
  {
   "cell_type": "code",
   "execution_count": 13,
   "id": "7b5c4678",
   "metadata": {},
   "outputs": [],
   "source": [
    "exploded =data.explode('actors')\n",
    "avg_actor_rating = exploded.groupby('actors')['Rating'].mean().to_dict()\n",
    "data['avg_actor_rating']=data['actors'].apply(\n",
    "    lambda actor_list: sum([avg_actor_rating.get(a,0) for a in actor_list])/ len(actor_list)\n",
    ")"
   ]
  },
  {
   "cell_type": "markdown",
   "id": "d0ad019f",
   "metadata": {},
   "source": [
    "## **🎬 Step 4: Feature Engineering - Director**\n",
    "- Group by `Director` and compute their average movie rating.\n",
    "- Map these average values to each movie as a new feature."
   ]
  },
  {
   "cell_type": "code",
   "execution_count": null,
   "id": "bc8069c9",
   "metadata": {},
   "outputs": [],
   "source": [
    "avg_director_rating = data.groupby('Director')['Rating'].mean().to_dict()\n",
    "data['avg_director_rating'] = data['Director'].map(avg_director_rating)"
   ]
  },
  {
   "cell_type": "code",
   "execution_count": 21,
   "id": "f1e13f7e",
   "metadata": {},
   "outputs": [
    {
     "data": {
      "text/html": [
       "<div>\n",
       "<style scoped>\n",
       "    .dataframe tbody tr th:only-of-type {\n",
       "        vertical-align: middle;\n",
       "    }\n",
       "\n",
       "    .dataframe tbody tr th {\n",
       "        vertical-align: top;\n",
       "    }\n",
       "\n",
       "    .dataframe thead th {\n",
       "        text-align: right;\n",
       "    }\n",
       "</style>\n",
       "<table border=\"1\" class=\"dataframe\">\n",
       "  <thead>\n",
       "    <tr style=\"text-align: right;\">\n",
       "      <th></th>\n",
       "      <th>Name</th>\n",
       "      <th>Year</th>\n",
       "      <th>Duration</th>\n",
       "      <th>Genre</th>\n",
       "      <th>Rating</th>\n",
       "      <th>Votes</th>\n",
       "      <th>Director</th>\n",
       "      <th>Actor 1</th>\n",
       "      <th>Actor 2</th>\n",
       "      <th>Actor 3</th>\n",
       "      <th>actors</th>\n",
       "      <th>avg_actor_rating</th>\n",
       "      <th>avg_director_rating</th>\n",
       "    </tr>\n",
       "  </thead>\n",
       "  <tbody>\n",
       "    <tr>\n",
       "      <th>1</th>\n",
       "      <td>#Gadhvi (He thought he was Gandhi)</td>\n",
       "      <td>(2019)</td>\n",
       "      <td>109 min</td>\n",
       "      <td>Drama</td>\n",
       "      <td>7.0</td>\n",
       "      <td>8</td>\n",
       "      <td>Gaurav Bakshi</td>\n",
       "      <td>Rasika Dugal</td>\n",
       "      <td>Vivek Ghamande</td>\n",
       "      <td>Arvind Jangid</td>\n",
       "      <td>[Rasika Dugal, Vivek Ghamande, Arvind Jangid]</td>\n",
       "      <td>6.855556</td>\n",
       "      <td>7.000000</td>\n",
       "    </tr>\n",
       "    <tr>\n",
       "      <th>3</th>\n",
       "      <td>#Yaaram</td>\n",
       "      <td>(2019)</td>\n",
       "      <td>110 min</td>\n",
       "      <td>Comedy, Romance</td>\n",
       "      <td>4.4</td>\n",
       "      <td>35</td>\n",
       "      <td>Ovais Khan</td>\n",
       "      <td>Prateik</td>\n",
       "      <td>Ishita Raj</td>\n",
       "      <td>Siddhant Kapoor</td>\n",
       "      <td>[Prateik, Ishita Raj, Siddhant Kapoor]</td>\n",
       "      <td>4.838889</td>\n",
       "      <td>4.400000</td>\n",
       "    </tr>\n",
       "    <tr>\n",
       "      <th>5</th>\n",
       "      <td>...Aur Pyaar Ho Gaya</td>\n",
       "      <td>(1997)</td>\n",
       "      <td>147 min</td>\n",
       "      <td>Comedy, Drama, Musical</td>\n",
       "      <td>4.7</td>\n",
       "      <td>827</td>\n",
       "      <td>Rahul Rawail</td>\n",
       "      <td>Bobby Deol</td>\n",
       "      <td>Aishwarya Rai Bachchan</td>\n",
       "      <td>Shammi Kapoor</td>\n",
       "      <td>[Bobby Deol, Aishwarya Rai Bachchan, Shammi Ka...</td>\n",
       "      <td>5.752446</td>\n",
       "      <td>5.358824</td>\n",
       "    </tr>\n",
       "    <tr>\n",
       "      <th>6</th>\n",
       "      <td>...Yahaan</td>\n",
       "      <td>(2005)</td>\n",
       "      <td>142 min</td>\n",
       "      <td>Drama, Romance, War</td>\n",
       "      <td>7.4</td>\n",
       "      <td>1,086</td>\n",
       "      <td>Shoojit Sircar</td>\n",
       "      <td>Jimmy Sheirgill</td>\n",
       "      <td>Minissha Lamba</td>\n",
       "      <td>Yashpal Sharma</td>\n",
       "      <td>[Jimmy Sheirgill, Minissha Lamba, Yashpal Sharma]</td>\n",
       "      <td>5.883036</td>\n",
       "      <td>7.500000</td>\n",
       "    </tr>\n",
       "    <tr>\n",
       "      <th>8</th>\n",
       "      <td>?: A Question Mark</td>\n",
       "      <td>(2012)</td>\n",
       "      <td>82 min</td>\n",
       "      <td>Horror, Mystery, Thriller</td>\n",
       "      <td>5.6</td>\n",
       "      <td>326</td>\n",
       "      <td>Allyson Patel</td>\n",
       "      <td>Yash Dave</td>\n",
       "      <td>Muntazir Ahmad</td>\n",
       "      <td>Kiran Bhatia</td>\n",
       "      <td>[Yash Dave, Muntazir Ahmad, Kiran Bhatia]</td>\n",
       "      <td>5.662121</td>\n",
       "      <td>5.600000</td>\n",
       "    </tr>\n",
       "  </tbody>\n",
       "</table>\n",
       "</div>"
      ],
      "text/plain": [
       "                                 Name    Year Duration  \\\n",
       "1  #Gadhvi (He thought he was Gandhi)  (2019)  109 min   \n",
       "3                             #Yaaram  (2019)  110 min   \n",
       "5                ...Aur Pyaar Ho Gaya  (1997)  147 min   \n",
       "6                           ...Yahaan  (2005)  142 min   \n",
       "8                  ?: A Question Mark  (2012)   82 min   \n",
       "\n",
       "                       Genre  Rating  Votes        Director          Actor 1  \\\n",
       "1                      Drama     7.0      8   Gaurav Bakshi     Rasika Dugal   \n",
       "3            Comedy, Romance     4.4     35      Ovais Khan          Prateik   \n",
       "5     Comedy, Drama, Musical     4.7    827    Rahul Rawail       Bobby Deol   \n",
       "6        Drama, Romance, War     7.4  1,086  Shoojit Sircar  Jimmy Sheirgill   \n",
       "8  Horror, Mystery, Thriller     5.6    326   Allyson Patel        Yash Dave   \n",
       "\n",
       "                  Actor 2          Actor 3  \\\n",
       "1          Vivek Ghamande    Arvind Jangid   \n",
       "3              Ishita Raj  Siddhant Kapoor   \n",
       "5  Aishwarya Rai Bachchan    Shammi Kapoor   \n",
       "6          Minissha Lamba   Yashpal Sharma   \n",
       "8          Muntazir Ahmad     Kiran Bhatia   \n",
       "\n",
       "                                              actors  avg_actor_rating  \\\n",
       "1      [Rasika Dugal, Vivek Ghamande, Arvind Jangid]          6.855556   \n",
       "3             [Prateik, Ishita Raj, Siddhant Kapoor]          4.838889   \n",
       "5  [Bobby Deol, Aishwarya Rai Bachchan, Shammi Ka...          5.752446   \n",
       "6  [Jimmy Sheirgill, Minissha Lamba, Yashpal Sharma]          5.883036   \n",
       "8          [Yash Dave, Muntazir Ahmad, Kiran Bhatia]          5.662121   \n",
       "\n",
       "   avg_director_rating  \n",
       "1             7.000000  \n",
       "3             4.400000  \n",
       "5             5.358824  \n",
       "6             7.500000  \n",
       "8             5.600000  "
      ]
     },
     "execution_count": 21,
     "metadata": {},
     "output_type": "execute_result"
    }
   ],
   "source": [
    "data.head()"
   ]
  },
  {
   "cell_type": "markdown",
   "id": "fd6523c0",
   "metadata": {},
   "source": [
    "## **🔤 Step 5: Genre One-Hot Encoding**\n",
    "- Perform one-hot encoding on the `Genre` column.\n",
    "- This transforms categorical genres into binary format."
   ]
  },
  {
   "cell_type": "code",
   "execution_count": null,
   "id": "484e1461",
   "metadata": {},
   "outputs": [],
   "source": [
    "sentence_model= SentenceTransformer(\"all-MiniLM-L6-v2\")\n",
    "genre_ohe =pd.get_dummies(data['Genre'])"
   ]
  },
  {
   "cell_type": "markdown",
   "id": "231d364f",
   "metadata": {},
   "source": [
    "## ** Step 6: Feature Matrix and Target Setup**\n",
    "- Combine one-hot encoded genres, average actor rating, and average director rating into a single feature matrix `X`.\n",
    "- Set the target variable `y` as the `Rating`"
   ]
  },
  {
   "cell_type": "code",
   "execution_count": null,
   "id": "73ea0fa9",
   "metadata": {},
   "outputs": [],
   "source": [
    "X= np.hstack((\n",
    "    genre_ohe.values,\n",
    "    data[['avg_actor_rating','avg_director_rating']].values\n",
    "))\n",
    "\n",
    "y=data['Rating']"
   ]
  },
  {
   "cell_type": "markdown",
   "id": "4a8bb22e",
   "metadata": {},
   "source": [
    "## **🔀 Step 7: Train-Test Split**\n",
    "Split the dataset into training and testing sets (80% train, 20% test) using `train_test_split`."
   ]
  },
  {
   "cell_type": "code",
   "execution_count": null,
   "id": "ed728688",
   "metadata": {},
   "outputs": [],
   "source": [
    "X_train, X_test,y_train, y_test=train_test_split(X,y,test_size=0.2,random_state=42)"
   ]
  },
  {
   "cell_type": "markdown",
   "id": "50b1462e",
   "metadata": {},
   "source": [
    "## **🚀 Step 8: Model Training with XGBoost**\n",
    "- Initialize the `XGBRegressor` with hyperparameters."
   ]
  },
  {
   "cell_type": "code",
   "execution_count": 26,
   "id": "086e45c5",
   "metadata": {},
   "outputs": [],
   "source": [
    "xgb_model = XGBRegressor(\n",
    "    n_estimators=300,\n",
    "    learning_rate=0.03,\n",
    "    max_depth=7,\n",
    "    subsample=0.8,\n",
    "    colsample_bytree=0.8,\n",
    "    random_state=42\n",
    ")"
   ]
  },
  {
   "cell_type": "markdown",
   "id": "906b8354",
   "metadata": {},
   "source": [
    "- Train the model using the training data (`X_train`, `y_train`)."
   ]
  },
  {
   "cell_type": "code",
   "execution_count": 27,
   "id": "35701c87",
   "metadata": {},
   "outputs": [],
   "source": [
    "xgb_model.fit(X_train,y_train)\n",
    "y_pred= xgb_model.predict(X_test)"
   ]
  },
  {
   "cell_type": "markdown",
   "id": "e14373bd",
   "metadata": {},
   "source": [
    "## **📈 Step 9: Model Evaluation**\n",
    "- Predict ratings using the test set (`X_test`).\n",
    "- Evaluate the model using R² Score and Mean Squared Error (MSE).\n",
    "- Print evaluation metrics."
   ]
  },
  {
   "cell_type": "code",
   "execution_count": 28,
   "id": "d1e631be",
   "metadata": {},
   "outputs": [
    {
     "name": "stdout",
     "output_type": "stream",
     "text": [
      "r2 Score0.7253\n",
      "mean squarred error: 0.5107\n"
     ]
    }
   ],
   "source": [
    "#evaluation\n",
    "r2=r2_score(y_test,y_pred)\n",
    "mse=mean_squared_error(y_test,y_pred)\n",
    "\n",
    "print(f'r2 Score{r2:.4f}')\n",
    "print(f\"mean squarred error: {mse:.4f}\")"
   ]
  },
  {
   "cell_type": "markdown",
   "id": "9c251ea0",
   "metadata": {},
   "source": [
    "## ** Step 10: Save Trained Models and Features**"
   ]
  },
  {
   "cell_type": "code",
   "execution_count": 29,
   "id": "6802cd4b",
   "metadata": {},
   "outputs": [],
   "source": [
    "pickle.dump(xgb_model,open('movie_rating_model.pkl','wb'))\n",
    "pickle.dump(sentence_model,open('sentence_model.pkl','wb'))\n",
    "pickle.dump(genre_ohe.columns.tolist(),open('genre_columns_model.pkl','wb'))\n",
    "pickle.dump(avg_actor_rating,open('avg_actor_rating.pkl','wb'))\n",
    "pickle.dump(avg_director_rating,open('avg_director_rating.pkl','wb'))"
   ]
  }
 ],
 "metadata": {
  "kernelspec": {
   "display_name": "Python 3",
   "language": "python",
   "name": "python3"
  },
  "language_info": {
   "codemirror_mode": {
    "name": "ipython",
    "version": 3
   },
   "file_extension": ".py",
   "mimetype": "text/x-python",
   "name": "python",
   "nbconvert_exporter": "python",
   "pygments_lexer": "ipython3",
   "version": "3.8.10"
  }
 },
 "nbformat": 4,
 "nbformat_minor": 5
}
